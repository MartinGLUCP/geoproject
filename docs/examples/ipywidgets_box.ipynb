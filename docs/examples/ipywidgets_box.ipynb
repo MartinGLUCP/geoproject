{
 "cells": [
  {
   "cell_type": "markdown",
   "metadata": {},
   "source": [
    "![](https://i.imgur.com/MzTCZsz.png)"
   ]
  },
  {
   "cell_type": "code",
   "execution_count": 1,
   "metadata": {},
   "outputs": [
    {
     "name": "stdout",
     "output_type": "stream",
     "text": [
      "Looking in indexes: https://pypi.org/simple, https://pypi.ngc.nvidia.com\n",
      "Collecting ipywidgets==8.0.4\n",
      "  Downloading ipywidgets-8.0.4-py3-none-any.whl (137 kB)\n",
      "                                              0.0/137.8 kB ? eta -:--:--\n",
      "     --                                       10.2/137.8 kB ? eta -:--:--\n",
      "     -------------------                   71.7/137.8 kB 991.0 kB/s eta 0:00:01\n",
      "     -------------------------------------- 137.8/137.8 kB 1.6 MB/s eta 0:00:00\n",
      "Requirement already satisfied: ipykernel>=4.5.1 in c:\\users\\martin\\miniconda3\\envs\\geos\\lib\\site-packages (from ipywidgets==8.0.4) (6.23.1)\n",
      "Requirement already satisfied: ipython>=6.1.0 in c:\\users\\martin\\miniconda3\\envs\\geos\\lib\\site-packages (from ipywidgets==8.0.4) (8.13.2)\n",
      "Requirement already satisfied: traitlets>=4.3.1 in c:\\users\\martin\\miniconda3\\envs\\geos\\lib\\site-packages (from ipywidgets==8.0.4) (5.9.0)\n",
      "Collecting widgetsnbextension~=4.0 (from ipywidgets==8.0.4)\n",
      "  Downloading widgetsnbextension-4.0.7-py3-none-any.whl (2.1 MB)\n",
      "                                              0.0/2.1 MB ? eta -:--:--\n",
      "     ---                                      0.2/2.1 MB 3.9 MB/s eta 0:00:01\n",
      "     -------                                  0.4/2.1 MB 4.2 MB/s eta 0:00:01\n",
      "     ------------                             0.6/2.1 MB 5.1 MB/s eta 0:00:01\n",
      "     -----------------                        0.9/2.1 MB 4.8 MB/s eta 0:00:01\n",
      "     --------------------                     1.1/2.1 MB 4.7 MB/s eta 0:00:01\n",
      "     -------------------------                1.3/2.1 MB 4.7 MB/s eta 0:00:01\n",
      "     -----------------------------            1.5/2.1 MB 4.9 MB/s eta 0:00:01\n",
      "     --------------------------------         1.7/2.1 MB 4.8 MB/s eta 0:00:01\n",
      "     -------------------------------------    2.0/2.1 MB 4.8 MB/s eta 0:00:01\n",
      "     ---------------------------------------- 2.1/2.1 MB 4.8 MB/s eta 0:00:00\n",
      "Requirement already satisfied: jupyterlab-widgets~=3.0 in c:\\users\\martin\\miniconda3\\envs\\geos\\lib\\site-packages (from ipywidgets==8.0.4) (3.0.7)\n",
      "Requirement already satisfied: comm>=0.1.1 in c:\\users\\martin\\miniconda3\\envs\\geos\\lib\\site-packages (from ipykernel>=4.5.1->ipywidgets==8.0.4) (0.1.3)\n",
      "Requirement already satisfied: debugpy>=1.6.5 in c:\\users\\martin\\miniconda3\\envs\\geos\\lib\\site-packages (from ipykernel>=4.5.1->ipywidgets==8.0.4) (1.6.7)\n",
      "Requirement already satisfied: jupyter-client>=6.1.12 in c:\\users\\martin\\miniconda3\\envs\\geos\\lib\\site-packages (from ipykernel>=4.5.1->ipywidgets==8.0.4) (8.2.0)\n",
      "Requirement already satisfied: jupyter-core!=5.0.*,>=4.12 in c:\\users\\martin\\miniconda3\\envs\\geos\\lib\\site-packages (from ipykernel>=4.5.1->ipywidgets==8.0.4) (5.3.0)\n",
      "Requirement already satisfied: matplotlib-inline>=0.1 in c:\\users\\martin\\miniconda3\\envs\\geos\\lib\\site-packages (from ipykernel>=4.5.1->ipywidgets==8.0.4) (0.1.6)\n",
      "Requirement already satisfied: nest-asyncio in c:\\users\\martin\\miniconda3\\envs\\geos\\lib\\site-packages (from ipykernel>=4.5.1->ipywidgets==8.0.4) (1.5.6)\n",
      "Requirement already satisfied: packaging in c:\\users\\martin\\miniconda3\\envs\\geos\\lib\\site-packages (from ipykernel>=4.5.1->ipywidgets==8.0.4) (23.1)\n",
      "Requirement already satisfied: psutil in c:\\users\\martin\\miniconda3\\envs\\geos\\lib\\site-packages (from ipykernel>=4.5.1->ipywidgets==8.0.4) (5.9.5)\n",
      "Requirement already satisfied: pyzmq>=20 in c:\\users\\martin\\miniconda3\\envs\\geos\\lib\\site-packages (from ipykernel>=4.5.1->ipywidgets==8.0.4) (25.0.2)\n",
      "Requirement already satisfied: tornado>=6.1 in c:\\users\\martin\\miniconda3\\envs\\geos\\lib\\site-packages (from ipykernel>=4.5.1->ipywidgets==8.0.4) (6.3.2)\n",
      "Requirement already satisfied: backcall in c:\\users\\martin\\miniconda3\\envs\\geos\\lib\\site-packages (from ipython>=6.1.0->ipywidgets==8.0.4) (0.2.0)\n",
      "Requirement already satisfied: decorator in c:\\users\\martin\\miniconda3\\envs\\geos\\lib\\site-packages (from ipython>=6.1.0->ipywidgets==8.0.4) (5.1.1)\n",
      "Requirement already satisfied: jedi>=0.16 in c:\\users\\martin\\miniconda3\\envs\\geos\\lib\\site-packages (from ipython>=6.1.0->ipywidgets==8.0.4) (0.18.2)\n",
      "Requirement already satisfied: pickleshare in c:\\users\\martin\\miniconda3\\envs\\geos\\lib\\site-packages (from ipython>=6.1.0->ipywidgets==8.0.4) (0.7.5)\n",
      "Requirement already satisfied: prompt-toolkit!=3.0.37,<3.1.0,>=3.0.30 in c:\\users\\martin\\miniconda3\\envs\\geos\\lib\\site-packages (from ipython>=6.1.0->ipywidgets==8.0.4) (3.0.38)\n",
      "Requirement already satisfied: pygments>=2.4.0 in c:\\users\\martin\\miniconda3\\envs\\geos\\lib\\site-packages (from ipython>=6.1.0->ipywidgets==8.0.4) (2.15.1)\n",
      "Requirement already satisfied: stack-data in c:\\users\\martin\\miniconda3\\envs\\geos\\lib\\site-packages (from ipython>=6.1.0->ipywidgets==8.0.4) (0.6.2)\n",
      "Requirement already satisfied: colorama in c:\\users\\martin\\miniconda3\\envs\\geos\\lib\\site-packages (from ipython>=6.1.0->ipywidgets==8.0.4) (0.4.6)\n",
      "Requirement already satisfied: parso<0.9.0,>=0.8.0 in c:\\users\\martin\\miniconda3\\envs\\geos\\lib\\site-packages (from jedi>=0.16->ipython>=6.1.0->ipywidgets==8.0.4) (0.8.3)\n",
      "Requirement already satisfied: python-dateutil>=2.8.2 in c:\\users\\martin\\miniconda3\\envs\\geos\\lib\\site-packages (from jupyter-client>=6.1.12->ipykernel>=4.5.1->ipywidgets==8.0.4) (2.8.2)\n",
      "Requirement already satisfied: platformdirs>=2.5 in c:\\users\\martin\\miniconda3\\envs\\geos\\lib\\site-packages (from jupyter-core!=5.0.*,>=4.12->ipykernel>=4.5.1->ipywidgets==8.0.4) (3.5.1)\n",
      "Requirement already satisfied: pywin32>=300 in c:\\users\\martin\\miniconda3\\envs\\geos\\lib\\site-packages (from jupyter-core!=5.0.*,>=4.12->ipykernel>=4.5.1->ipywidgets==8.0.4) (304)\n",
      "Requirement already satisfied: wcwidth in c:\\users\\martin\\miniconda3\\envs\\geos\\lib\\site-packages (from prompt-toolkit!=3.0.37,<3.1.0,>=3.0.30->ipython>=6.1.0->ipywidgets==8.0.4) (0.2.6)\n",
      "Requirement already satisfied: executing>=1.2.0 in c:\\users\\martin\\miniconda3\\envs\\geos\\lib\\site-packages (from stack-data->ipython>=6.1.0->ipywidgets==8.0.4) (1.2.0)\n",
      "Requirement already satisfied: asttokens>=2.1.0 in c:\\users\\martin\\miniconda3\\envs\\geos\\lib\\site-packages (from stack-data->ipython>=6.1.0->ipywidgets==8.0.4) (2.2.1)\n",
      "Requirement already satisfied: pure-eval in c:\\users\\martin\\miniconda3\\envs\\geos\\lib\\site-packages (from stack-data->ipython>=6.1.0->ipywidgets==8.0.4) (0.2.2)\n",
      "Requirement already satisfied: six in c:\\users\\martin\\miniconda3\\envs\\geos\\lib\\site-packages (from asttokens>=2.1.0->stack-data->ipython>=6.1.0->ipywidgets==8.0.4) (1.16.0)\n",
      "Installing collected packages: widgetsnbextension, ipywidgets\n",
      "  Attempting uninstall: widgetsnbextension\n",
      "    Found existing installation: widgetsnbextension 3.6.0\n",
      "    Uninstalling widgetsnbextension-3.6.0:\n",
      "      Successfully uninstalled widgetsnbextension-3.6.0\n",
      "  Attempting uninstall: ipywidgets\n",
      "    Found existing installation: ipywidgets 7.7.2\n",
      "    Uninstalling ipywidgets-7.7.2:\n",
      "      Successfully uninstalled ipywidgets-7.7.2\n",
      "Successfully installed ipywidgets-8.0.4 widgetsnbextension-4.0.7\n"
     ]
    },
    {
     "name": "stderr",
     "output_type": "stream",
     "text": [
      "ERROR: pip's dependency resolver does not currently take into account all the packages that are installed. This behaviour is the source of the following dependency conflicts.\n",
      "leafmap 0.20.2 requires ipywidgets<8.0.0, but you have ipywidgets 8.0.4 which is incompatible.\n"
     ]
    }
   ],
   "source": [
    "# import geemap\n",
    "# Map = geemap.Map()\n",
    "# Map\n",
    "# !pip install ipywidgets==8.0.4"
   ]
  },
  {
   "cell_type": "code",
   "execution_count": 2,
   "metadata": {},
   "outputs": [
    {
     "name": "stdout",
     "output_type": "stream",
     "text": [
      "8.0.4\n"
     ]
    }
   ],
   "source": [
    "import ipywidgets as widgets\n",
    "print(widgets.__version__)"
   ]
  },
  {
   "cell_type": "code",
   "execution_count": 3,
   "metadata": {},
   "outputs": [],
   "source": [
    "widget_width = \"250px\"\n",
    "padding = \"0px 0px 0px 4px\"  # upper, right, bottom, left"
   ]
  },
  {
   "cell_type": "markdown",
   "metadata": {},
   "source": [
    "icon: https://fontawesome.com/v4.7.0/icons/"
   ]
  },
  {
   "cell_type": "code",
   "execution_count": 4,
   "metadata": {},
   "outputs": [
    {
     "data": {
      "application/vnd.jupyter.widget-view+json": {
       "model_id": "3a3cb7f4a2ce4dd79402b7d8926d9a07",
       "version_major": 2,
       "version_minor": 0
      },
      "text/plain": [
       "ToggleButton(value=False, icon='gear', layout=Layout(height='28px', padding='0px 0px 0px 4px', width='28px'), …"
      ]
     },
     "metadata": {},
     "output_type": "display_data"
    }
   ],
   "source": [
    "toolbar_button = widgets.ToggleButton(\n",
    "    value=False,\n",
    "    tooltip=\"Toolbar\",\n",
    "    icon=\"gear\",\n",
    "    layout=widgets.Layout(width=\"28px\", height=\"28px\", padding=padding),\n",
    ")\n",
    "display(toolbar_button)"
   ]
  },
  {
   "cell_type": "code",
   "execution_count": 7,
   "metadata": {},
   "outputs": [],
   "source": [
    "# toolbar_button.layout.width = \"28px\""
   ]
  },
  {
   "cell_type": "code",
   "execution_count": 7,
   "metadata": {},
   "outputs": [
    {
     "data": {
      "text/plain": [
       "True"
      ]
     },
     "execution_count": 7,
     "metadata": {},
     "output_type": "execute_result"
    }
   ],
   "source": [
    "toolbar_button.value"
   ]
  },
  {
   "cell_type": "code",
   "execution_count": 8,
   "metadata": {},
   "outputs": [
    {
     "data": {
      "application/vnd.jupyter.widget-view+json": {
       "model_id": "a1566eeab0c247d191bcb6e058e8e1d9",
       "version_major": 2,
       "version_minor": 0
      },
      "text/plain": [
       "ToggleButton(value=False, button_style='primary', icon='times', layout=Layout(height='28px', padding='0px 0px …"
      ]
     },
     "execution_count": 8,
     "metadata": {},
     "output_type": "execute_result"
    }
   ],
   "source": [
    "close_button = widgets.ToggleButton(\n",
    "    value=False,\n",
    "    tooltip=\"Close the tool\",\n",
    "    icon=\"times\",\n",
    "    button_style=\"primary\",\n",
    "    layout=widgets.Layout(height=\"28px\", width=\"28px\", padding=padding),\n",
    ")\n",
    "close_button"
   ]
  },
  {
   "cell_type": "code",
   "execution_count": 9,
   "metadata": {},
   "outputs": [
    {
     "data": {
      "application/vnd.jupyter.widget-view+json": {
       "model_id": "b8cbd71c773e441b8ae7d41839a5c6df",
       "version_major": 2,
       "version_minor": 0
      },
      "text/plain": [
       "HBox(children=(ToggleButton(value=False, button_style='primary', icon='times', layout=Layout(height='28px', pa…"
      ]
     },
     "execution_count": 9,
     "metadata": {},
     "output_type": "execute_result"
    }
   ],
   "source": [
    "widgets.HBox([close_button, toolbar_button])"
   ]
  },
  {
   "cell_type": "code",
   "execution_count": 10,
   "metadata": {},
   "outputs": [
    {
     "data": {
      "application/vnd.jupyter.widget-view+json": {
       "model_id": "0f90e39f1b8c4cdc8374735691c7d5ab",
       "version_major": 2,
       "version_minor": 0
      },
      "text/plain": [
       "HBox(children=(ToggleButton(value=False, button_style='primary', icon='times', layout=Layout(height='28px', pa…"
      ]
     },
     "execution_count": 10,
     "metadata": {},
     "output_type": "execute_result"
    }
   ],
   "source": [
    "box = widgets.HBox()\n",
    "box.children = [close_button, toolbar_button]\n",
    "box"
   ]
  },
  {
   "cell_type": "code",
   "execution_count": 11,
   "metadata": {},
   "outputs": [
    {
     "data": {
      "application/vnd.jupyter.widget-view+json": {
       "model_id": "1c9c1caf766b4e1d983d4b2b0b9d7112",
       "version_major": 2,
       "version_minor": 0
      },
      "text/plain": [
       "Checkbox(value=False, description='Checkbox', indent=False, layout=Layout(padding='0px 0px 0px 4px', width='25…"
      ]
     },
     "execution_count": 11,
     "metadata": {},
     "output_type": "execute_result"
    }
   ],
   "source": [
    "checkbox = widgets.Checkbox(\n",
    "    description=\"Checkbox\",\n",
    "    indent=False,\n",
    "    layout=widgets.Layout(padding=padding, width=widget_width),\n",
    ")\n",
    "checkbox"
   ]
  },
  {
   "cell_type": "code",
   "execution_count": 12,
   "metadata": {},
   "outputs": [
    {
     "data": {
      "application/vnd.jupyter.widget-view+json": {
       "model_id": "ed741a542dbb44e194e9a0be65246360",
       "version_major": 2,
       "version_minor": 0
      },
      "text/plain": [
       "Dropdown(description='Dropdown:', layout=Layout(padding='0px 0px 0px 4px', width='250px'), options=('Option 1'…"
      ]
     },
     "execution_count": 12,
     "metadata": {},
     "output_type": "execute_result"
    }
   ],
   "source": [
    "dropdown = widgets.Dropdown(\n",
    "    options=[\"Option 1\", \"Option 2\", \"Option 3\"],\n",
    "    value=None,\n",
    "    description=\"Dropdown:\",\n",
    "    layout=widgets.Layout(width=widget_width, padding=padding),\n",
    "    style={\"description_width\": \"initial\"},\n",
    ")\n",
    "dropdown"
   ]
  },
  {
   "cell_type": "code",
   "execution_count": 30,
   "metadata": {},
   "outputs": [
    {
     "data": {
      "application/vnd.jupyter.widget-view+json": {
       "model_id": "30a212ed8c3847d1b5529b93b1d6178b",
       "version_major": 2,
       "version_minor": 0
      },
      "text/plain": [
       "IntSlider(value=1, description='Zoom: ', layout=Layout(padding='0px 0px 0px 4px', width='250px'), max=14, min=…"
      ]
     },
     "execution_count": 30,
     "metadata": {},
     "output_type": "execute_result"
    }
   ],
   "source": [
    "int_slider = widgets.IntSlider(\n",
    "    min=1,\n",
    "    max=14,\n",
    "    description=\"Zoom: \",\n",
    "    readout=True,\n",
    "    continuous_update=True,\n",
    "    layout=widgets.Layout(width=widget_width, padding=padding),\n",
    "    style={\"description_width\": \"initial\"},\n",
    ")\n",
    "int_slider"
   ]
  },
  {
   "cell_type": "code",
   "execution_count": 14,
   "metadata": {},
   "outputs": [],
   "source": [
    "float_slider = widgets.FloatSlider(\n",
    "    min=1,\n",
    "    max=100,\n",
    "    description=\"Float Slider: \",\n",
    "    readout=True,\n",
    "    continuous_update=True,\n",
    "    layout=widgets.Layout(width=widget_width, padding=padding),\n",
    "    style={\"description_width\": \"initial\"},\n",
    ")"
   ]
  },
  {
   "cell_type": "code",
   "execution_count": 15,
   "metadata": {},
   "outputs": [
    {
     "data": {
      "application/vnd.jupyter.widget-view+json": {
       "model_id": "bccf62dc1dfa46fa92042c59baa19553",
       "version_major": 2,
       "version_minor": 0
      },
      "text/plain": [
       "ColorPicker(value='white', description='Color:', layout=Layout(padding='0px 0px 0px 4px', width='250px'), styl…"
      ]
     },
     "execution_count": 15,
     "metadata": {},
     "output_type": "execute_result"
    }
   ],
   "source": [
    "color = widgets.ColorPicker(\n",
    "    concise=False,\n",
    "    description=\"Color:\",\n",
    "    value=\"white\",\n",
    "    style={\"description_width\": \"initial\"},\n",
    "    layout=widgets.Layout(width=widget_width, padding=padding),\n",
    ")\n",
    "color"
   ]
  },
  {
   "cell_type": "code",
   "execution_count": 16,
   "metadata": {},
   "outputs": [
    {
     "data": {
      "application/vnd.jupyter.widget-view+json": {
       "model_id": "cab06ff64c544a9bb89f616e770e2e27",
       "version_major": 2,
       "version_minor": 0
      },
      "text/plain": [
       "Text(value='', description='Textbox:', layout=Layout(padding='0px 0px 0px 4px', width='250px'), placeholder='E…"
      ]
     },
     "execution_count": 16,
     "metadata": {},
     "output_type": "execute_result"
    }
   ],
   "source": [
    "text = widgets.Text(\n",
    "    value=\"\",\n",
    "    description=\"Textbox:\",\n",
    "    placeholder=\"Enter sth.\",\n",
    "    style={\"description_width\": \"initial\"},\n",
    "    layout=widgets.Layout(width=widget_width, padding=padding),\n",
    ")\n",
    "text"
   ]
  },
  {
   "cell_type": "code",
   "execution_count": 17,
   "metadata": {},
   "outputs": [
    {
     "data": {
      "application/vnd.jupyter.widget-view+json": {
       "model_id": "79c4f40cc9c34710b18638608ce48f4e",
       "version_major": 2,
       "version_minor": 0
      },
      "text/plain": [
       "Textarea(value='', layout=Layout(width='250px'), placeholder='Placeholder')"
      ]
     },
     "execution_count": 17,
     "metadata": {},
     "output_type": "execute_result"
    }
   ],
   "source": [
    "textarea = widgets.Textarea(\n",
    "    placeholder=\"Placeholder\",\n",
    "    layout=widgets.Layout(width=widget_width),\n",
    ")\n",
    "textarea"
   ]
  },
  {
   "cell_type": "code",
   "execution_count": 18,
   "metadata": {},
   "outputs": [
    {
     "data": {
      "application/vnd.jupyter.widget-view+json": {
       "model_id": "f5d825d58c124bf0be01370d242384c1",
       "version_major": 2,
       "version_minor": 0
      },
      "text/plain": [
       "ToggleButtons(button_style='primary', options=('Apply', 'Reset', 'Close'), style=ToggleButtonsStyle(button_wid…"
      ]
     },
     "execution_count": 18,
     "metadata": {},
     "output_type": "execute_result"
    }
   ],
   "source": [
    "buttons = widgets.ToggleButtons(\n",
    "    value=None,\n",
    "    options=[\"Apply\", \"Reset\", \"Close\"],\n",
    "    tooltips=[\"Apply\", \"Reset\", \"Close\"],\n",
    "    button_style=\"primary\",\n",
    ")\n",
    "buttons.style.button_width = \"80px\"\n",
    "buttons"
   ]
  },
  {
   "cell_type": "code",
   "execution_count": 24,
   "metadata": {},
   "outputs": [
    {
     "data": {
      "application/vnd.jupyter.widget-view+json": {
       "model_id": "bef4ec409a7b4c24ba3eee680f59f802",
       "version_major": 2,
       "version_minor": 0
      },
      "text/plain": [
       "Output(layout=Layout(padding='0px 0px 0px 4px', width='250px'))"
      ]
     },
     "execution_count": 24,
     "metadata": {},
     "output_type": "execute_result"
    }
   ],
   "source": [
    "output = widgets.Output(layout=widgets.Layout(width=widget_width, padding=padding))\n",
    "with output:\n",
    "    output.clear_output()\n",
    "    print(\"Running ...\")\n",
    "    display(buttons)\n",
    "    print(buttons.value)\n",
    "output"
   ]
  },
  {
   "cell_type": "code",
   "execution_count": 38,
   "metadata": {},
   "outputs": [
    {
     "data": {
      "application/vnd.jupyter.widget-view+json": {
       "model_id": "a7d948f41fd742519f241526dbac9a89",
       "version_major": 2,
       "version_minor": 0
      },
      "text/plain": [
       "VBox(children=(HBox(children=(ToggleButton(value=False, button_style='primary', icon='times', layout=Layout(he…"
      ]
     },
     "execution_count": 38,
     "metadata": {},
     "output_type": "execute_result"
    }
   ],
   "source": [
    "toolbar_widget = widgets.VBox()\n",
    "toolbar_widget.children = [\n",
    "    widgets.HBox([close_button, toolbar_button]),\n",
    "    checkbox,\n",
    "    int_slider,\n",
    "    float_slider,\n",
    "    dropdown,\n",
    "    text,\n",
    "    color,\n",
    "    textarea,\n",
    "    buttons,\n",
    "]\n",
    "toolbar_widget"
   ]
  },
  {
   "cell_type": "code",
   "execution_count": 49,
   "metadata": {},
   "outputs": [
    {
     "data": {
      "application/vnd.jupyter.widget-view+json": {
       "model_id": "fc54307cc2324175ad8d5825df5647ff",
       "version_major": 2,
       "version_minor": 0
      },
      "text/plain": [
       "Map(center=[40, -100], controls=(ZoomControl(options=['position', 'zoom_in_text', 'zoom_in_title', 'zoom_out_t…"
      ]
     },
     "execution_count": 49,
     "metadata": {},
     "output_type": "execute_result"
    }
   ],
   "source": [
    "import ipyleaflet\n",
    "control = ipyleaflet.WidgetControl(widget=toolbar_widget,position='topright')\n",
    "m = ipyleaflet.Map(center=[40,-100],zoom=4,scroll_wheel_zoom=True)\n",
    "m"
   ]
  },
  {
   "cell_type": "code",
   "execution_count": 50,
   "metadata": {},
   "outputs": [],
   "source": [
    "m.add_control(control)"
   ]
  },
  {
   "cell_type": "code",
   "execution_count": 48,
   "metadata": {},
   "outputs": [
    {
     "data": {
      "text/plain": [
       "Link(source=(Map(bottom=533.0, center=[40, -100], controls=(ZoomControl(options=['position', 'zoom_in_text', 'zoom_in_title', 'zoom_out_text', 'zoom_out_title']), AttributionControl(options=['position', 'prefix'], position='bottomright'), WidgetControl(options=['position', 'transparent_bg'], position='topright', widget=VBox(children=(HBox(children=(ToggleButton(value=False, button_style='primary', icon='times', layout=Layout(height='28px', padding='0px 0px 0px 4px', width='28px'), tooltip='Close the tool'), ToggleButton(value=True, icon='gear', layout=Layout(height='28px', padding='0px 0px 0px 4px', width='28px'), tooltip='Toolbar'))), Checkbox(value=True, description='Checkbox', indent=False, layout=Layout(padding='0px 0px 0px 4px', width='250px')), IntSlider(value=14, description='Zoom: ', layout=Layout(padding='0px 0px 0px 4px', width='250px'), max=14, min=1, style=SliderStyle(description_width='initial')), FloatSlider(value=1.0, description='Float Slider: ', layout=Layout(padding='0px 0px 0px 4px', width='250px'), min=1.0, style=SliderStyle(description_width='initial')), Dropdown(description='Dropdown:', layout=Layout(padding='0px 0px 0px 4px', width='250px'), options=('Option 1', 'Option 2', 'Option 3'), style=DescriptionStyle(description_width='initial'), value='Option 1'), Text(value='', description='Textbox:', layout=Layout(padding='0px 0px 0px 4px', width='250px'), placeholder='Enter sth.', style=TextStyle(description_width='initial')), ColorPicker(value='white', description='Color:', layout=Layout(padding='0px 0px 0px 4px', width='250px'), style=DescriptionStyle(description_width='initial')), Textarea(value='ffze\\n', layout=Layout(width='250px'), placeholder='Placeholder'), ToggleButtons(button_style='primary', index=1, options=('Apply', 'Reset', 'Close'), style=ToggleButtonsStyle(button_width='80px'), tooltips=('Apply', 'Reset', 'Close'), value='Reset'))))), crs={'name': 'EPSG3857', 'custom': False}, default_style=MapStyle(), dragging_style=MapStyle(cursor='move'), east=95.62500000000001, layers=(TileLayer(attribution='&copy; <a href=\"https://www.openstreetmap.org/copyright\">OpenStreetMap</a> contributors', base=True, max_zoom=19, min_zoom=1, name='OpenStreetMap.Mapnik', options=['attribution', 'bounds', 'detect_retina', 'max_native_zoom', 'max_zoom', 'min_native_zoom', 'min_zoom', 'no_wrap', 'tile_size', 'tms', 'zoom_offset'], url='https://tile.openstreetmap.org/{z}/{x}/{y}.png'),), left=-683.0, north=78.8360654533353, options=['bounce_at_zoom_limits', 'box_zoom', 'center', 'close_popup_on_click', 'double_click_zoom', 'dragging', 'fullscreen', 'inertia', 'inertia_deceleration', 'inertia_max_speed', 'interpolation', 'keyboard', 'keyboard_pan_offset', 'keyboard_zoom_offset', 'max_zoom', 'min_zoom', 'prefer_canvas', 'scroll_wheel_zoom', 'tap', 'tap_tolerance', 'touch_zoom', 'world_copy_jump', 'zoom', 'zoom_animation_threshold', 'zoom_delta', 'zoom_snap'], right=784.0, scroll_wheel_zoom=True, south=-7.362466865535738, style=MapStyle(), top=133.0, west=-420.11718750000006, window_url='http://localhost:8888/lab/tree/project/geoproject/docs/examples/ipywidgets_box.ipynb', zoom=14.0), 'center'), target=(Text(value='', description='Textbox:', layout=Layout(padding='0px 0px 0px 4px', width='250px'), placeholder='Enter sth.', style=TextStyle(description_width='initial')), 'value'))"
      ]
     },
     "execution_count": 48,
     "metadata": {},
     "output_type": "execute_result"
    }
   ],
   "source": [
    "widgets.jslink((m,'zoom'), (int_slider,'value'))\n",
    "widgets.jslink((m,'center'), (text,'value'))"
   ]
  },
  {
   "cell_type": "code",
   "execution_count": 47,
   "metadata": {},
   "outputs": [
    {
     "data": {
      "text/plain": [
       "4.0"
      ]
     },
     "execution_count": 47,
     "metadata": {},
     "output_type": "execute_result"
    }
   ],
   "source": [
    "m.zoom"
   ]
  }
 ],
 "metadata": {
  "hide_input": false,
  "kernelspec": {
   "display_name": "Python 3",
   "language": "python",
   "name": "python3"
  },
  "language_info": {
   "codemirror_mode": {
    "name": "ipython",
    "version": 3
   },
   "file_extension": ".py",
   "mimetype": "text/x-python",
   "name": "python",
   "nbconvert_exporter": "python",
   "pygments_lexer": "ipython3",
   "version": "3.10.10"
  },
  "toc": {
   "base_numbering": 1,
   "nav_menu": {},
   "number_sections": true,
   "sideBar": true,
   "skip_h1_title": false,
   "title_cell": "Table of Contents",
   "title_sidebar": "Contents",
   "toc_cell": false,
   "toc_position": {},
   "toc_section_display": true,
   "toc_window_display": false
  },
  "varInspector": {
   "cols": {
    "lenName": 16,
    "lenType": 16,
    "lenVar": 40
   },
   "kernels_config": {
    "python": {
     "delete_cmd_postfix": "",
     "delete_cmd_prefix": "del ",
     "library": "var_list.py",
     "varRefreshCmd": "print(var_dic_list())"
    },
    "r": {
     "delete_cmd_postfix": ") ",
     "delete_cmd_prefix": "rm(",
     "library": "var_list.r",
     "varRefreshCmd": "cat(var_dic_list()) "
    }
   },
   "types_to_exclude": [
    "module",
    "function",
    "builtin_function_or_method",
    "instance",
    "_Feature"
   ],
   "window_display": false
  }
 },
 "nbformat": 4,
 "nbformat_minor": 4
}
