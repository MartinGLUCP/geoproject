{
 "cells": [
  {
   "cell_type": "code",
   "execution_count": 2,
   "metadata": {},
   "outputs": [
    {
     "name": "stdout",
     "output_type": "stream",
     "text": [
      "Looking in indexes: https://pypi.org/simple, https://pypi.ngc.nvidia.com\n"
     ]
    },
    {
     "name": "stderr",
     "output_type": "stream",
     "text": [
      "ERROR: Ignored the following versions that require a different python version: 0.0.1 Requires-Python >=3.8\n",
      "ERROR: Could not find a version that satisfies the requirement geoproject (from versions: none)\n",
      "ERROR: No matching distribution found for geoproject\n"
     ]
    }
   ],
   "source": [
    "!pip install geoproject"
   ]
  },
  {
   "cell_type": "code",
   "execution_count": 1,
   "metadata": {},
   "outputs": [
    {
     "ename": "ModuleNotFoundError",
     "evalue": "No module named 'geoproject'",
     "output_type": "error",
     "traceback": [
      "\u001b[1;31m---------------------------------------------------------------------------\u001b[0m",
      "\u001b[1;31mModuleNotFoundError\u001b[0m                       Traceback (most recent call last)",
      "Cell \u001b[1;32mIn[1], line 1\u001b[0m\n\u001b[1;32m----> 1\u001b[0m \u001b[38;5;28;01mimport\u001b[39;00m \u001b[38;5;21;01mgeoproject\u001b[39;00m\n\u001b[0;32m      2\u001b[0m \u001b[38;5;28;01mimport\u001b[39;00m \u001b[38;5;21;01mipywidgets\u001b[39;00m \u001b[38;5;28;01mas\u001b[39;00m \u001b[38;5;21;01mwidgets\u001b[39;00m\n\u001b[0;32m      3\u001b[0m \u001b[38;5;28;01mfrom\u001b[39;00m \u001b[38;5;21;01mipyleaflet\u001b[39;00m \u001b[38;5;28;01mimport\u001b[39;00m WidgetControl\n",
      "\u001b[1;31mModuleNotFoundError\u001b[0m: No module named 'geoproject'"
     ]
    }
   ],
   "source": [
    "import geoproject\n",
    "import ipywidgets as widgets\n",
    "from ipyleaflet import WidgetControl"
   ]
  },
  {
   "cell_type": "markdown",
   "metadata": {},
   "source": [
    "## Creating a toolbar button"
   ]
  },
  {
   "cell_type": "code",
   "execution_count": null,
   "metadata": {},
   "outputs": [],
   "source": [
    "widget_width = \"250px\"\n",
    "padding = \"0px 0px 0px 5px\"  # upper, right, bottom, left\n",
    "\n",
    "toolbar_button = widgets.ToggleButton(\n",
    "    value=False,\n",
    "    tooltip=\"Toolbar\",\n",
    "    icon=\"wrench\",\n",
    "    layout=widgets.Layout(width=\"28px\", height=\"28px\", padding=padding),\n",
    ")\n",
    "\n",
    "close_button = widgets.ToggleButton(\n",
    "    value=False,\n",
    "    tooltip=\"Close the tool\",\n",
    "    icon=\"times\",\n",
    "    button_style=\"primary\",\n",
    "    layout=widgets.Layout(height=\"28px\", width=\"28px\", padding=padding),\n",
    ")"
   ]
  },
  {
   "cell_type": "code",
   "execution_count": null,
   "metadata": {},
   "outputs": [],
   "source": [
    "toolbar = widgets.HBox([toolbar_button])\n",
    "toolbar"
   ]
  },
  {
   "cell_type": "markdown",
   "metadata": {},
   "source": [
    "## Adding toolbar event"
   ]
  },
  {
   "cell_type": "code",
   "execution_count": null,
   "metadata": {},
   "outputs": [],
   "source": [
    "def toolbar_click(change):\n",
    "    if change[\"new\"]:\n",
    "        toolbar.children = [toolbar_button, close_button]\n",
    "    else:\n",
    "        toolbar.children = [toolbar_button]\n",
    "        \n",
    "toolbar_button.observe(toolbar_click, \"value\")"
   ]
  },
  {
   "cell_type": "code",
   "execution_count": null,
   "metadata": {},
   "outputs": [],
   "source": [
    "def close_click(change):\n",
    "    if change[\"new\"]:\n",
    "        toolbar_button.close()\n",
    "        close_button.close()\n",
    "        toolbar.close()\n",
    "        \n",
    "close_button.observe(close_click, \"value\")\n",
    "toolbar"
   ]
  },
  {
   "cell_type": "markdown",
   "metadata": {},
   "source": [
    "## Adding toolbar grid"
   ]
  },
  {
   "cell_type": "code",
   "execution_count": null,
   "metadata": {},
   "outputs": [],
   "source": [
    "rows = 2\n",
    "cols = 2\n",
    "grid = widgets.GridspecLayout(rows, cols, grid_gap=\"0px\", layout=widgets.Layout(width=\"65px\"))"
   ]
  },
  {
   "cell_type": "markdown",
   "metadata": {},
   "source": [
    "icons: https://fontawesome.com/v4.7.0/icons/"
   ]
  },
  {
   "cell_type": "code",
   "execution_count": null,
   "metadata": {},
   "outputs": [],
   "source": [
    "icons = [\"folder-open\", \"map\", \"info\", \"question\"]\n",
    "\n",
    "for i in range(rows):\n",
    "    for j in range(cols):\n",
    "        grid[i, j] = widgets.Button(description=\"\", button_style=\"primary\", icon=icons[i*rows+j], \n",
    "                                    layout=widgets.Layout(width=\"28px\", padding=\"0px\"))\n",
    "grid"
   ]
  },
  {
   "cell_type": "code",
   "execution_count": null,
   "metadata": {},
   "outputs": [],
   "source": [
    "toolbar = widgets.VBox([toolbar_button])"
   ]
  },
  {
   "cell_type": "code",
   "execution_count": null,
   "metadata": {},
   "outputs": [],
   "source": [
    "def toolbar_click(change):\n",
    "    if change[\"new\"]:\n",
    "        toolbar.children = [widgets.HBox([close_button, toolbar_button]), grid]\n",
    "    else:\n",
    "        toolbar.children = [toolbar_button]\n",
    "        \n",
    "toolbar_button.observe(toolbar_click, \"value\")\n",
    "toolbar"
   ]
  },
  {
   "cell_type": "markdown",
   "metadata": {},
   "source": [
    "## Adding toolbar to ipyleaflet"
   ]
  },
  {
   "cell_type": "code",
   "execution_count": null,
   "metadata": {},
   "outputs": [],
   "source": [
    "toolbar_ctrl = WidgetControl(widget=toolbar, position=\"topright\")"
   ]
  },
  {
   "cell_type": "code",
   "execution_count": null,
   "metadata": {},
   "outputs": [],
   "source": [
    "m = geoproject.Map()\n",
    "m.add_control(toolbar_ctrl)\n",
    "m"
   ]
  },
  {
   "cell_type": "code",
   "execution_count": null,
   "metadata": {},
   "outputs": [],
   "source": [
    "output = widgets.Output()\n",
    "output_ctrl = WidgetControl(widget=output, position=\"bottomright\")\n",
    "m.add_control(output_ctrl)"
   ]
  },
  {
   "cell_type": "code",
   "execution_count": null,
   "metadata": {},
   "outputs": [],
   "source": [
    "basemap = widgets.Dropdown(\n",
    "    options=[\"OpenStreetmAP\", \"SATELLITE\", \"ROADMAP\"],\n",
    "    value=None,\n",
    "    description=\"basemap:\",\n",
    "    layout=widgets.Layout(width=widget_width, padding=padding),\n",
    "    style={\"description_width\": \"initial\"},\n",
    ")\n",
    "basemap_control = WidgetControl(widget=basemap,position='topright')"
   ]
  },
  {
   "cell_type": "code",
   "execution_count": null,
   "metadata": {},
   "outputs": [],
   "source": [
    "def change_basemap(change):\n",
    "    if change['new']:\n",
    "        m.add_basemap(basemap.value)\n",
    "    "
   ]
  },
  {
   "cell_type": "code",
   "execution_count": null,
   "metadata": {},
   "outputs": [],
   "source": [
    "basemap.observe(change_basemap,'value')"
   ]
  },
  {
   "cell_type": "code",
   "execution_count": null,
   "metadata": {},
   "outputs": [],
   "source": [
    "def tool_click(b):    \n",
    "    with output:\n",
    "        output.clear_output()\n",
    "        print(f\"You clicked the {b.icon} button\")\n",
    "\n",
    "        if b.icon == \"map\":\n",
    "            m.add(basemap_control)"
   ]
  },
  {
   "cell_type": "code",
   "execution_count": null,
   "metadata": {},
   "outputs": [],
   "source": [
    "for i in range(rows):\n",
    "    for j in range(cols):\n",
    "        tool = grid[i, j]\n",
    "        tool.on_click(tool_click)"
   ]
  },
  {
   "cell_type": "markdown",
   "metadata": {},
   "source": [
    "![](https://i.imgur.com/3LbyC1Y.gif)"
   ]
  }
 ],
 "metadata": {
  "hide_input": false,
  "kernelspec": {
   "display_name": "Python 3",
   "language": "python",
   "name": "python3"
  },
  "language_info": {
   "codemirror_mode": {
    "name": "ipython",
    "version": 3
   },
   "file_extension": ".py",
   "mimetype": "text/x-python",
   "name": "python",
   "nbconvert_exporter": "python",
   "pygments_lexer": "ipython3",
   "version": "3.10.10"
  },
  "toc": {
   "base_numbering": 1,
   "nav_menu": {},
   "number_sections": true,
   "sideBar": true,
   "skip_h1_title": false,
   "title_cell": "Table of Contents",
   "title_sidebar": "Contents",
   "toc_cell": false,
   "toc_position": {},
   "toc_section_display": true,
   "toc_window_display": false
  },
  "varInspector": {
   "cols": {
    "lenName": 16,
    "lenType": 16,
    "lenVar": 40
   },
   "kernels_config": {
    "python": {
     "delete_cmd_postfix": "",
     "delete_cmd_prefix": "del ",
     "library": "var_list.py",
     "varRefreshCmd": "print(var_dic_list())"
    },
    "r": {
     "delete_cmd_postfix": ") ",
     "delete_cmd_prefix": "rm(",
     "library": "var_list.r",
     "varRefreshCmd": "cat(var_dic_list()) "
    }
   },
   "types_to_exclude": [
    "module",
    "function",
    "builtin_function_or_method",
    "instance",
    "_Feature"
   ],
   "window_display": false
  }
 },
 "nbformat": 4,
 "nbformat_minor": 4
}
